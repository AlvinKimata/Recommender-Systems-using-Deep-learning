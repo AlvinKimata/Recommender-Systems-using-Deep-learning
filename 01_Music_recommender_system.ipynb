{
 "cells": [
  {
   "cell_type": "code",
   "execution_count": 2,
   "metadata": {
    "id": "cTW4pW8H9CII"
   },
   "outputs": [],
   "source": [
    "#!pip install tensorflow-recommenders"
   ]
  },
  {
   "cell_type": "code",
   "execution_count": 1,
   "metadata": {
    "id": "YtvxCekc4LZB"
   },
   "outputs": [],
   "source": [
    "import json\n",
    "import numpy as np\n",
    "import pandas as pd\n",
    "from typing import Dict, Text\n",
    "\n",
    "import tensorflow as tf\n",
    "import tensorflow_recommenders as tfrs"
   ]
  },
  {
   "cell_type": "code",
   "execution_count": 2,
   "metadata": {
    "colab": {
     "base_uri": "https://localhost:8080/",
     "height": 206
    },
    "id": "cy0U4tbw4W6F",
    "outputId": "d7375a48-4211-4a24-f4de-c87eac1bac43"
   },
   "outputs": [
    {
     "data": {
      "text/html": [
       "<div>\n",
       "<style scoped>\n",
       "    .dataframe tbody tr th:only-of-type {\n",
       "        vertical-align: middle;\n",
       "    }\n",
       "\n",
       "    .dataframe tbody tr th {\n",
       "        vertical-align: top;\n",
       "    }\n",
       "\n",
       "    .dataframe thead th {\n",
       "        text-align: right;\n",
       "    }\n",
       "</style>\n",
       "<table border=\"1\" class=\"dataframe\">\n",
       "  <thead>\n",
       "    <tr style=\"text-align: right;\">\n",
       "      <th></th>\n",
       "      <th>0001388703</th>\n",
       "      <th>A1ZCPG3D3HGRSS</th>\n",
       "      <th>5.0</th>\n",
       "      <th>1387670400</th>\n",
       "    </tr>\n",
       "  </thead>\n",
       "  <tbody>\n",
       "    <tr>\n",
       "      <th>0</th>\n",
       "      <td>0001388703</td>\n",
       "      <td>AC2PL52NKPL29</td>\n",
       "      <td>5.0</td>\n",
       "      <td>1378857600</td>\n",
       "    </tr>\n",
       "    <tr>\n",
       "      <th>1</th>\n",
       "      <td>0001388703</td>\n",
       "      <td>A1SUZXBDZSDQ3A</td>\n",
       "      <td>5.0</td>\n",
       "      <td>1362182400</td>\n",
       "    </tr>\n",
       "    <tr>\n",
       "      <th>2</th>\n",
       "      <td>0001388703</td>\n",
       "      <td>A3A0W7FZXM0IZW</td>\n",
       "      <td>5.0</td>\n",
       "      <td>1354406400</td>\n",
       "    </tr>\n",
       "    <tr>\n",
       "      <th>3</th>\n",
       "      <td>0001388703</td>\n",
       "      <td>A12R54MKO17TW0</td>\n",
       "      <td>5.0</td>\n",
       "      <td>1325894400</td>\n",
       "    </tr>\n",
       "    <tr>\n",
       "      <th>4</th>\n",
       "      <td>0001388703</td>\n",
       "      <td>A25ZT87OMIPLNX</td>\n",
       "      <td>5.0</td>\n",
       "      <td>1247011200</td>\n",
       "    </tr>\n",
       "  </tbody>\n",
       "</table>\n",
       "</div>"
      ],
      "text/plain": [
       "   0001388703  A1ZCPG3D3HGRSS  5.0  1387670400\n",
       "0  0001388703   AC2PL52NKPL29  5.0  1378857600\n",
       "1  0001388703  A1SUZXBDZSDQ3A  5.0  1362182400\n",
       "2  0001388703  A3A0W7FZXM0IZW  5.0  1354406400\n",
       "3  0001388703  A12R54MKO17TW0  5.0  1325894400\n",
       "4  0001388703  A25ZT87OMIPLNX  5.0  1247011200"
      ]
     },
     "execution_count": 2,
     "metadata": {},
     "output_type": "execute_result"
    }
   ],
   "source": [
    "df = pd.read_csv('../Notebook files/Digital_Music.csv')\n",
    "\n",
    "df = df[:500]\n",
    "df.head()"
   ]
  },
  {
   "cell_type": "code",
   "execution_count": 3,
   "metadata": {
    "colab": {
     "base_uri": "https://localhost:8080/",
     "height": 424
    },
    "id": "DTaKZycd5IJ5",
    "outputId": "89cf93c1-8a8d-48cc-a943-c065d0cedc49"
   },
   "outputs": [
    {
     "data": {
      "text/html": [
       "<div>\n",
       "<style scoped>\n",
       "    .dataframe tbody tr th:only-of-type {\n",
       "        vertical-align: middle;\n",
       "    }\n",
       "\n",
       "    .dataframe tbody tr th {\n",
       "        vertical-align: top;\n",
       "    }\n",
       "\n",
       "    .dataframe thead th {\n",
       "        text-align: right;\n",
       "    }\n",
       "</style>\n",
       "<table border=\"1\" class=\"dataframe\">\n",
       "  <thead>\n",
       "    <tr style=\"text-align: right;\">\n",
       "      <th></th>\n",
       "      <th>BookID</th>\n",
       "      <th>ReviewerID</th>\n",
       "      <th>Rating</th>\n",
       "      <th>UnixReviewTime</th>\n",
       "    </tr>\n",
       "  </thead>\n",
       "  <tbody>\n",
       "    <tr>\n",
       "      <th>0</th>\n",
       "      <td>0001388703</td>\n",
       "      <td>AC2PL52NKPL29</td>\n",
       "      <td>5.0</td>\n",
       "      <td>1378857600</td>\n",
       "    </tr>\n",
       "    <tr>\n",
       "      <th>1</th>\n",
       "      <td>0001388703</td>\n",
       "      <td>A1SUZXBDZSDQ3A</td>\n",
       "      <td>5.0</td>\n",
       "      <td>1362182400</td>\n",
       "    </tr>\n",
       "    <tr>\n",
       "      <th>2</th>\n",
       "      <td>0001388703</td>\n",
       "      <td>A3A0W7FZXM0IZW</td>\n",
       "      <td>5.0</td>\n",
       "      <td>1354406400</td>\n",
       "    </tr>\n",
       "    <tr>\n",
       "      <th>3</th>\n",
       "      <td>0001388703</td>\n",
       "      <td>A12R54MKO17TW0</td>\n",
       "      <td>5.0</td>\n",
       "      <td>1325894400</td>\n",
       "    </tr>\n",
       "    <tr>\n",
       "      <th>4</th>\n",
       "      <td>0001388703</td>\n",
       "      <td>A25ZT87OMIPLNX</td>\n",
       "      <td>5.0</td>\n",
       "      <td>1247011200</td>\n",
       "    </tr>\n",
       "    <tr>\n",
       "      <th>...</th>\n",
       "      <td>...</td>\n",
       "      <td>...</td>\n",
       "      <td>...</td>\n",
       "      <td>...</td>\n",
       "    </tr>\n",
       "    <tr>\n",
       "      <th>495</th>\n",
       "      <td>5557585400</td>\n",
       "      <td>A3FZMR0ABYPIMN</td>\n",
       "      <td>5.0</td>\n",
       "      <td>1470441600</td>\n",
       "    </tr>\n",
       "    <tr>\n",
       "      <th>496</th>\n",
       "      <td>5557585400</td>\n",
       "      <td>ADVHE3TVJ85UP</td>\n",
       "      <td>5.0</td>\n",
       "      <td>1468627200</td>\n",
       "    </tr>\n",
       "    <tr>\n",
       "      <th>497</th>\n",
       "      <td>5557585400</td>\n",
       "      <td>A1WX3Y3UVJXZUR</td>\n",
       "      <td>5.0</td>\n",
       "      <td>1468627200</td>\n",
       "    </tr>\n",
       "    <tr>\n",
       "      <th>498</th>\n",
       "      <td>5557585400</td>\n",
       "      <td>A3T6OFC2Q7O3SU</td>\n",
       "      <td>5.0</td>\n",
       "      <td>1465344000</td>\n",
       "    </tr>\n",
       "    <tr>\n",
       "      <th>499</th>\n",
       "      <td>5557585400</td>\n",
       "      <td>A1H832KPE8OFLD</td>\n",
       "      <td>5.0</td>\n",
       "      <td>1465171200</td>\n",
       "    </tr>\n",
       "  </tbody>\n",
       "</table>\n",
       "<p>500 rows × 4 columns</p>\n",
       "</div>"
      ],
      "text/plain": [
       "         BookID      ReviewerID  Rating  UnixReviewTime\n",
       "0    0001388703   AC2PL52NKPL29     5.0      1378857600\n",
       "1    0001388703  A1SUZXBDZSDQ3A     5.0      1362182400\n",
       "2    0001388703  A3A0W7FZXM0IZW     5.0      1354406400\n",
       "3    0001388703  A12R54MKO17TW0     5.0      1325894400\n",
       "4    0001388703  A25ZT87OMIPLNX     5.0      1247011200\n",
       "..          ...             ...     ...             ...\n",
       "495  5557585400  A3FZMR0ABYPIMN     5.0      1470441600\n",
       "496  5557585400   ADVHE3TVJ85UP     5.0      1468627200\n",
       "497  5557585400  A1WX3Y3UVJXZUR     5.0      1468627200\n",
       "498  5557585400  A3T6OFC2Q7O3SU     5.0      1465344000\n",
       "499  5557585400  A1H832KPE8OFLD     5.0      1465171200\n",
       "\n",
       "[500 rows x 4 columns]"
      ]
     },
     "execution_count": 3,
     "metadata": {},
     "output_type": "execute_result"
    }
   ],
   "source": [
    "df.columns = ['BookID', 'ReviewerID', 'Rating', 'UnixReviewTime']\n",
    "df"
   ]
  },
  {
   "cell_type": "code",
   "execution_count": 4,
   "metadata": {
    "id": "AZVtr4GDz2o4"
   },
   "outputs": [],
   "source": [
    "# #Encode columns with categorical variables.\n",
    "# s = (df.dtypes == 'object')\n",
    "# object_cols = list(s[s].index)\n",
    "\n",
    "# print(f'Categorical variables are:{object_cols}')"
   ]
  },
  {
   "cell_type": "code",
   "execution_count": 5,
   "metadata": {
    "id": "gtAsijrHz2VE"
   },
   "outputs": [],
   "source": [
    "# ordinal_encoder = OrdinalEncoder()\n",
    "# df[object_cols] = ordinal_encoder.fit_transform(df[object_cols])"
   ]
  },
  {
   "cell_type": "code",
   "execution_count": 8,
   "metadata": {
    "colab": {
     "base_uri": "https://localhost:8080/",
     "height": 331
    },
    "id": "0IoWIBl76KPM",
    "outputId": "32310ccc-916c-40a8-fad3-343143c7a068"
   },
   "outputs": [
    {
     "data": {
      "text/html": [
       "<div>\n",
       "<style scoped>\n",
       "    .dataframe tbody tr th:only-of-type {\n",
       "        vertical-align: middle;\n",
       "    }\n",
       "\n",
       "    .dataframe tbody tr th {\n",
       "        vertical-align: top;\n",
       "    }\n",
       "\n",
       "    .dataframe thead th {\n",
       "        text-align: right;\n",
       "    }\n",
       "</style>\n",
       "<table border=\"1\" class=\"dataframe\">\n",
       "  <thead>\n",
       "    <tr style=\"text-align: right;\">\n",
       "      <th>BookID</th>\n",
       "      <th>0001377647</th>\n",
       "      <th>0001388703</th>\n",
       "      <th>0001526146</th>\n",
       "      <th>0001527134</th>\n",
       "      <th>0006920055</th>\n",
       "      <th>0006935257</th>\n",
       "      <th>0615897398</th>\n",
       "      <th>0760103453</th>\n",
       "      <th>0760131694</th>\n",
       "      <th>0830838015</th>\n",
       "      <th>...</th>\n",
       "      <th>1937509095</th>\n",
       "      <th>278472414X</th>\n",
       "      <th>3236514752</th>\n",
       "      <th>3426958910</th>\n",
       "      <th>4901000616</th>\n",
       "      <th>5550312085</th>\n",
       "      <th>5552256646</th>\n",
       "      <th>5553860377</th>\n",
       "      <th>5557416978</th>\n",
       "      <th>5557585400</th>\n",
       "    </tr>\n",
       "    <tr>\n",
       "      <th>ReviewerID</th>\n",
       "      <th></th>\n",
       "      <th></th>\n",
       "      <th></th>\n",
       "      <th></th>\n",
       "      <th></th>\n",
       "      <th></th>\n",
       "      <th></th>\n",
       "      <th></th>\n",
       "      <th></th>\n",
       "      <th></th>\n",
       "      <th></th>\n",
       "      <th></th>\n",
       "      <th></th>\n",
       "      <th></th>\n",
       "      <th></th>\n",
       "      <th></th>\n",
       "      <th></th>\n",
       "      <th></th>\n",
       "      <th></th>\n",
       "      <th></th>\n",
       "      <th></th>\n",
       "    </tr>\n",
       "  </thead>\n",
       "  <tbody>\n",
       "    <tr>\n",
       "      <th>A106GSY0H5E2R4</th>\n",
       "      <td>0.0</td>\n",
       "      <td>4.0</td>\n",
       "      <td>0.0</td>\n",
       "      <td>0.0</td>\n",
       "      <td>0.0</td>\n",
       "      <td>0.0</td>\n",
       "      <td>0.0</td>\n",
       "      <td>0.0</td>\n",
       "      <td>0.0</td>\n",
       "      <td>0.0</td>\n",
       "      <td>...</td>\n",
       "      <td>0.0</td>\n",
       "      <td>0.0</td>\n",
       "      <td>0.0</td>\n",
       "      <td>0.0</td>\n",
       "      <td>0.0</td>\n",
       "      <td>0.0</td>\n",
       "      <td>0.0</td>\n",
       "      <td>0.0</td>\n",
       "      <td>0.0</td>\n",
       "      <td>0.0</td>\n",
       "    </tr>\n",
       "    <tr>\n",
       "      <th>A106RJ1JBUA0TO</th>\n",
       "      <td>0.0</td>\n",
       "      <td>0.0</td>\n",
       "      <td>5.0</td>\n",
       "      <td>0.0</td>\n",
       "      <td>0.0</td>\n",
       "      <td>0.0</td>\n",
       "      <td>0.0</td>\n",
       "      <td>0.0</td>\n",
       "      <td>0.0</td>\n",
       "      <td>0.0</td>\n",
       "      <td>...</td>\n",
       "      <td>0.0</td>\n",
       "      <td>0.0</td>\n",
       "      <td>0.0</td>\n",
       "      <td>0.0</td>\n",
       "      <td>0.0</td>\n",
       "      <td>0.0</td>\n",
       "      <td>0.0</td>\n",
       "      <td>0.0</td>\n",
       "      <td>0.0</td>\n",
       "      <td>0.0</td>\n",
       "    </tr>\n",
       "    <tr>\n",
       "      <th>A10CSSGW3ESBCA</th>\n",
       "      <td>0.0</td>\n",
       "      <td>0.0</td>\n",
       "      <td>0.0</td>\n",
       "      <td>5.0</td>\n",
       "      <td>0.0</td>\n",
       "      <td>0.0</td>\n",
       "      <td>0.0</td>\n",
       "      <td>0.0</td>\n",
       "      <td>0.0</td>\n",
       "      <td>0.0</td>\n",
       "      <td>...</td>\n",
       "      <td>0.0</td>\n",
       "      <td>0.0</td>\n",
       "      <td>0.0</td>\n",
       "      <td>0.0</td>\n",
       "      <td>0.0</td>\n",
       "      <td>0.0</td>\n",
       "      <td>0.0</td>\n",
       "      <td>0.0</td>\n",
       "      <td>0.0</td>\n",
       "      <td>0.0</td>\n",
       "    </tr>\n",
       "    <tr>\n",
       "      <th>A10MO6SWEYJQ3F</th>\n",
       "      <td>0.0</td>\n",
       "      <td>0.0</td>\n",
       "      <td>0.0</td>\n",
       "      <td>0.0</td>\n",
       "      <td>0.0</td>\n",
       "      <td>0.0</td>\n",
       "      <td>0.0</td>\n",
       "      <td>0.0</td>\n",
       "      <td>0.0</td>\n",
       "      <td>0.0</td>\n",
       "      <td>...</td>\n",
       "      <td>0.0</td>\n",
       "      <td>0.0</td>\n",
       "      <td>0.0</td>\n",
       "      <td>0.0</td>\n",
       "      <td>0.0</td>\n",
       "      <td>0.0</td>\n",
       "      <td>0.0</td>\n",
       "      <td>0.0</td>\n",
       "      <td>0.0</td>\n",
       "      <td>0.0</td>\n",
       "    </tr>\n",
       "    <tr>\n",
       "      <th>A11DP72VMLL5LS</th>\n",
       "      <td>0.0</td>\n",
       "      <td>0.0</td>\n",
       "      <td>0.0</td>\n",
       "      <td>0.0</td>\n",
       "      <td>0.0</td>\n",
       "      <td>0.0</td>\n",
       "      <td>0.0</td>\n",
       "      <td>0.0</td>\n",
       "      <td>0.0</td>\n",
       "      <td>0.0</td>\n",
       "      <td>...</td>\n",
       "      <td>0.0</td>\n",
       "      <td>0.0</td>\n",
       "      <td>0.0</td>\n",
       "      <td>0.0</td>\n",
       "      <td>0.0</td>\n",
       "      <td>0.0</td>\n",
       "      <td>0.0</td>\n",
       "      <td>5.0</td>\n",
       "      <td>0.0</td>\n",
       "      <td>0.0</td>\n",
       "    </tr>\n",
       "  </tbody>\n",
       "</table>\n",
       "<p>5 rows × 32 columns</p>\n",
       "</div>"
      ],
      "text/plain": [
       "BookID          0001377647  0001388703  0001526146  0001527134  0006920055  \\\n",
       "ReviewerID                                                                   \n",
       "A106GSY0H5E2R4         0.0         4.0         0.0         0.0         0.0   \n",
       "A106RJ1JBUA0TO         0.0         0.0         5.0         0.0         0.0   \n",
       "A10CSSGW3ESBCA         0.0         0.0         0.0         5.0         0.0   \n",
       "A10MO6SWEYJQ3F         0.0         0.0         0.0         0.0         0.0   \n",
       "A11DP72VMLL5LS         0.0         0.0         0.0         0.0         0.0   \n",
       "\n",
       "BookID          0006935257  0615897398  0760103453  0760131694  0830838015  \\\n",
       "ReviewerID                                                                   \n",
       "A106GSY0H5E2R4         0.0         0.0         0.0         0.0         0.0   \n",
       "A106RJ1JBUA0TO         0.0         0.0         0.0         0.0         0.0   \n",
       "A10CSSGW3ESBCA         0.0         0.0         0.0         0.0         0.0   \n",
       "A10MO6SWEYJQ3F         0.0         0.0         0.0         0.0         0.0   \n",
       "A11DP72VMLL5LS         0.0         0.0         0.0         0.0         0.0   \n",
       "\n",
       "BookID          ...  1937509095  278472414X  3236514752  3426958910  \\\n",
       "ReviewerID      ...                                                   \n",
       "A106GSY0H5E2R4  ...         0.0         0.0         0.0         0.0   \n",
       "A106RJ1JBUA0TO  ...         0.0         0.0         0.0         0.0   \n",
       "A10CSSGW3ESBCA  ...         0.0         0.0         0.0         0.0   \n",
       "A10MO6SWEYJQ3F  ...         0.0         0.0         0.0         0.0   \n",
       "A11DP72VMLL5LS  ...         0.0         0.0         0.0         0.0   \n",
       "\n",
       "BookID          4901000616  5550312085  5552256646  5553860377  5557416978  \\\n",
       "ReviewerID                                                                   \n",
       "A106GSY0H5E2R4         0.0         0.0         0.0         0.0         0.0   \n",
       "A106RJ1JBUA0TO         0.0         0.0         0.0         0.0         0.0   \n",
       "A10CSSGW3ESBCA         0.0         0.0         0.0         0.0         0.0   \n",
       "A10MO6SWEYJQ3F         0.0         0.0         0.0         0.0         0.0   \n",
       "A11DP72VMLL5LS         0.0         0.0         0.0         5.0         0.0   \n",
       "\n",
       "BookID          5557585400  \n",
       "ReviewerID                  \n",
       "A106GSY0H5E2R4         0.0  \n",
       "A106RJ1JBUA0TO         0.0  \n",
       "A10CSSGW3ESBCA         0.0  \n",
       "A10MO6SWEYJQ3F         0.0  \n",
       "A11DP72VMLL5LS         0.0  \n",
       "\n",
       "[5 rows x 32 columns]"
      ]
     },
     "execution_count": 8,
     "metadata": {},
     "output_type": "execute_result"
    }
   ],
   "source": [
    "combined = df.drop_duplicates(['ReviewerID', 'BookID'])\n",
    "user_book_matrix = combined.pivot(index = 'ReviewerID', columns = 'BookID', values = 'Rating')\n",
    "user_book_matrix.fillna(0, inplace = True)\n",
    "\n",
    "user_book_matrix.head()"
   ]
  },
  {
   "cell_type": "code",
   "execution_count": 9,
   "metadata": {
    "colab": {
     "base_uri": "https://localhost:8080/"
    },
    "id": "mP3g6D8-7Ome",
    "outputId": "d26e15cd-a8a6-48ed-878f-e396290bfad0"
   },
   "outputs": [
    {
     "data": {
      "text/plain": [
       "5.0    428\n",
       "4.0     32\n",
       "1.0     19\n",
       "3.0     15\n",
       "2.0      6\n",
       "Name: Rating, dtype: int64"
      ]
     },
     "execution_count": 9,
     "metadata": {},
     "output_type": "execute_result"
    }
   ],
   "source": [
    "df['Rating'].value_counts()"
   ]
  },
  {
   "cell_type": "code",
   "execution_count": 10,
   "metadata": {
    "id": "bMqSJObJAnnm"
   },
   "outputs": [],
   "source": [
    "#Build vocabularies to convert user IDs and book titles to integers for embedding layers.\n",
    "user_ids_vocabulary = tf.keras.layers.StringLookup()\n",
    "user_ids_vocabulary.adapt(df['ReviewerID'])\n",
    "\n",
    "book_titles_vocabulary = tf.keras.layers.StringLookup()\n",
    "book_titles_vocabulary.adapt(df['BookID'])"
   ]
  },
  {
   "cell_type": "code",
   "execution_count": 11,
   "metadata": {
    "id": "_AYPhG9u75h6"
   },
   "outputs": [],
   "source": [
    "#Define a tfrs model.\n",
    "class BookReviewModel(tfrs.Model):\n",
    "\n",
    "  def __init__(\n",
    "      self, user_model: tf.keras.Model, book_model: tf.keras.Model, task: tfrs.tasks.Retrieval):\n",
    "    super().__init__()\n",
    "\n",
    "    #Set up user and book representations.\n",
    "    self.user_model = user_model\n",
    "    self.book_model = book_model\n",
    "\n",
    "    #Set up a retrieval task.\n",
    "    self.task = task\n",
    "\n",
    "  def compute_loss(self, features: Dict[Text, tf.Tensor], training = False):\n",
    "    #Define how the loss is computed.\n",
    "    user_embeddings = self.user_model(df['ReviewerID'])  \n",
    "    book_embeddings = self.book_model(df['BookID'])\n",
    "\n",
    "    return self.task(user_embeddings, book_embeddings)"
   ]
  },
  {
   "cell_type": "code",
   "execution_count": 12,
   "metadata": {
    "id": "jB5a8JAUFm45"
   },
   "outputs": [],
   "source": [
    "#Convert 'book_id' to a tf.data object.\n",
    "\n",
    "book_ID = tf.data.Dataset.from_tensor_slices(df['BookID'])\n",
    "reviews = tf.data.Dataset.from_tensor_slices(df['ReviewerID'])"
   ]
  },
  {
   "cell_type": "code",
   "execution_count": 13,
   "metadata": {
    "colab": {
     "base_uri": "https://localhost:8080/"
    },
    "id": "4dMsN7S_9-6I",
    "outputId": "71606267-c798-4c37-c977-9d6e1e9540a2"
   },
   "outputs": [
    {
     "name": "stdout",
     "output_type": "stream",
     "text": [
      "WARNING:tensorflow:vocab_size is deprecated, please use vocabulary_size.\n",
      "WARNING:tensorflow:vocab_size is deprecated, please use vocabulary_size.\n",
      "WARNING:tensorflow:Model was constructed with shape (None, None) for input KerasTensor(type_spec=TensorSpec(shape=(None, None), dtype=tf.string, name='string_lookup_1_input'), name='string_lookup_1_input', description=\"created by layer 'string_lookup_1_input'\"), but it was called on an input with incompatible shape (None,).\n"
     ]
    }
   ],
   "source": [
    "#Define the user and book models.\n",
    "user_model = tf.keras.Sequential([\n",
    "                                  user_ids_vocabulary,\n",
    "                                  tf.keras.layers.Embedding(user_ids_vocabulary.vocab_size(), 64)\n",
    "])\n",
    "\n",
    "book_model = tf.keras.Sequential([\n",
    "                                  book_titles_vocabulary,\n",
    "                                  tf.keras.layers.Embedding(book_titles_vocabulary.vocab_size(), 64)\n",
    "])\n",
    "\n",
    "#Define your objectives.\n",
    "task = tfrs.tasks.Retrieval(metrics = tfrs.metrics.FactorizedTopK(\n",
    "    book_ID.batch(128).map(book_model)\n",
    "))"
   ]
  },
  {
   "cell_type": "code",
   "execution_count": 14,
   "metadata": {
    "id": "oLSLGMSdCOiR"
   },
   "outputs": [],
   "source": [
    "#Create a retrieval model.\n",
    "model = BookReviewModel(user_model, book_model, task)\n",
    "model.compile(optimizer = tf.keras.optimizers.Adagrad(learning_rate = 0.5))\n",
    "\n"
   ]
  },
  {
   "cell_type": "code",
   "execution_count": 15,
   "metadata": {
    "colab": {
     "base_uri": "https://localhost:8080/",
     "height": 415
    },
    "id": "rgU4AdwMGdrn",
    "outputId": "949df202-f04e-4860-ab26-a1475525a7bf"
   },
   "outputs": [
    {
     "name": "stdout",
     "output_type": "stream",
     "text": [
      "Epoch 1/3\n",
      "5/5 [==============================] - 5s 75ms/step - factorized_top_k/top_1_categorical_accuracy: 0.2036 - factorized_top_k/top_5_categorical_accuracy: 0.2196 - factorized_top_k/top_10_categorical_accuracy: 0.2396 - factorized_top_k/top_50_categorical_accuracy: 0.4580 - factorized_top_k/top_100_categorical_accuracy: 0.7288 - loss: 2180.4527 - regularization_loss: 0.0000e+00 - total_loss: 2180.4527\n",
      "Epoch 2/3\n",
      "5/5 [==============================] - 0s 77ms/step - factorized_top_k/top_1_categorical_accuracy: 0.3880 - factorized_top_k/top_5_categorical_accuracy: 0.4160 - factorized_top_k/top_10_categorical_accuracy: 0.4428 - factorized_top_k/top_50_categorical_accuracy: 0.6884 - factorized_top_k/top_100_categorical_accuracy: 0.9996 - loss: 1658.7821 - regularization_loss: 0.0000e+00 - total_loss: 1658.7821\n",
      "Epoch 3/3\n",
      "5/5 [==============================] - 0s 75ms/step - factorized_top_k/top_1_categorical_accuracy: 0.3604 - factorized_top_k/top_5_categorical_accuracy: 0.3896 - factorized_top_k/top_10_categorical_accuracy: 0.4196 - factorized_top_k/top_50_categorical_accuracy: 0.6880 - factorized_top_k/top_100_categorical_accuracy: 1.0000 - loss: 1653.4745 - regularization_loss: 0.0000e+00 - total_loss: 1653.4745\n"
     ]
    },
    {
     "data": {
      "text/plain": [
       "<keras.callbacks.History at 0x7f4141adae50>"
      ]
     },
     "execution_count": 15,
     "metadata": {},
     "output_type": "execute_result"
    }
   ],
   "source": [
    "#Train for 3 epochs.\n",
    "model.fit(reviews.batch(100), epochs = 3)"
   ]
  },
  {
   "cell_type": "code",
   "execution_count": 16,
   "metadata": {
    "colab": {
     "base_uri": "https://localhost:8080/"
    },
    "id": "hNL3OdFwHFzr",
    "outputId": "3f9fdb1e-bdd5-4537-f591-b890e92e6e7e"
   },
   "outputs": [
    {
     "name": "stdout",
     "output_type": "stream",
     "text": [
      "WARNING:tensorflow:Model was constructed with shape (None, None) for input KerasTensor(type_spec=TensorSpec(shape=(None, None), dtype=tf.string, name='string_lookup_1_input'), name='string_lookup_1_input', description=\"created by layer 'string_lookup_1_input'\"), but it was called on an input with incompatible shape (None,).\n",
      "Top 5 recommendations for user 42 is:[b'AC2PL52NKPL29' b'A1SUZXBDZSDQ3A' b'A3A0W7FZXM0IZW']\n"
     ]
    }
   ],
   "source": [
    "#Use brute-force search to set up retrieval using the trained representations.\n",
    "index = tfrs.layers.factorized_top_k.BruteForce(\n",
    "    model.user_model\n",
    ")\n",
    "\n",
    "index.index_from_dataset(\n",
    "    reviews.batch(100).map(lambda title: (title, model.book_model(title)))\n",
    ")\n",
    "\n",
    "#Get some recommendations.\n",
    "_, titles = index(np.array(['42']))\n",
    "\n",
    "print(f'Top 5 recommendations for user 42 is:{titles[0, :3]}')"
   ]
  },
  {
   "cell_type": "code",
   "execution_count": null,
   "metadata": {
    "colab": {
     "base_uri": "https://localhost:8080/"
    },
    "id": "O5H6y1yh4MPG",
    "outputId": "a1109b58-1329-4a71-89eb-fa3717c64e48"
   },
   "outputs": [],
   "source": []
  },
  {
   "cell_type": "code",
   "execution_count": null,
   "metadata": {
    "colab": {
     "base_uri": "https://localhost:8080/"
    },
    "id": "2xdr2M_84RFR",
    "outputId": "6a919f74-a174-4de5-bce3-b629736bb389"
   },
   "outputs": [],
   "source": []
  },
  {
   "cell_type": "code",
   "execution_count": null,
   "metadata": {
    "id": "3_YzGHQz47O7"
   },
   "outputs": [],
   "source": []
  }
 ],
 "metadata": {
  "colab": {
   "collapsed_sections": [],
   "name": "01 Music recommender system.ipynb",
   "provenance": []
  },
  "kernelspec": {
   "display_name": "Python 3 (ipykernel)",
   "language": "python",
   "name": "python3"
  },
  "language_info": {
   "codemirror_mode": {
    "name": "ipython",
    "version": 3
   },
   "file_extension": ".py",
   "mimetype": "text/x-python",
   "name": "python",
   "nbconvert_exporter": "python",
   "pygments_lexer": "ipython3",
   "version": "3.9.7"
  }
 },
 "nbformat": 4,
 "nbformat_minor": 4
}
