{
 "cells": [
  {
   "cell_type": "code",
   "execution_count": 1,
   "id": "af7fa667-ba54-4f2c-bf9a-d90e93e63b0b",
   "metadata": {},
   "outputs": [],
   "source": [
    "import os\n",
    "import json\n",
    "import gzip\n",
    "import pandas as pd"
   ]
  },
  {
   "cell_type": "code",
   "execution_count": 2,
   "id": "7a42f84b-5430-4306-98f2-bff02af66952",
   "metadata": {},
   "outputs": [
    {
     "name": "stdout",
     "output_type": "stream",
     "text": [
      "203766\n",
      "{'category': ['Movies & TV', 'Movies'], 'tech1': '', 'description': [], 'fit': '', 'title': 'Understanding Seizures and Epilepsy', 'also_buy': [], 'tech2': '', 'brand': '', 'feature': [], 'rank': '886,503 in Movies & TV (', 'also_view': [], 'main_cat': 'Movies & TV', 'similar_item': '', 'date': '', 'price': '', 'asin': '0000695009', 'imageURL': [], 'imageURLHighRes': []}\n"
     ]
    }
   ],
   "source": [
    "#Load the metadata.\n",
    "data = []\n",
    "\n",
    "with gzip.open('../Notebook files/meta_Movies_and_TV.json.gz') as f:\n",
    "    for l in f:\n",
    "        data.append(json.loads(l.strip()))\n",
    "        \n",
    "print(len(data))\n",
    "print(data[0])"
   ]
  },
  {
   "cell_type": "code",
   "execution_count": null,
   "id": "b1bcac82-8c68-4dbb-a207-42efaa9e75a6",
   "metadata": {},
   "outputs": [],
   "source": []
  }
 ],
 "metadata": {
  "kernelspec": {
   "display_name": "Python 3 (ipykernel)",
   "language": "python",
   "name": "python3"
  },
  "language_info": {
   "codemirror_mode": {
    "name": "ipython",
    "version": 3
   },
   "file_extension": ".py",
   "mimetype": "text/x-python",
   "name": "python",
   "nbconvert_exporter": "python",
   "pygments_lexer": "ipython3",
   "version": "3.9.7"
  }
 },
 "nbformat": 4,
 "nbformat_minor": 5
}
