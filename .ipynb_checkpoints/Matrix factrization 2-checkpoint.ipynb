{
 "cells": [
  {
   "cell_type": "code",
   "execution_count": 1,
   "id": "aa8853e9-b797-48f4-8f38-4d546a1df1fd",
   "metadata": {},
   "outputs": [],
   "source": [
    "import numpy as np\n",
    "import zipfile\n",
    "import pandas as pd\n",
    "import tensorflow as tf\n",
    "from urllib.request import urlretrieve"
   ]
  },
  {
   "cell_type": "code",
   "execution_count": null,
   "id": "a1a4d5f7-4ef1-4e8e-bc1f-107d075d93c4",
   "metadata": {},
   "outputs": [],
   "source": [
    "#Download datasets into the 'notebooks files folder'\n",
    "urlretrieve('http://files.grouplens.org/datasets/movielens/ml-100k.zip', '../Notebook files/movielens.zip.')\n"
   ]
  },
  {
   "cell_type": "code",
   "execution_count": 5,
   "id": "5910692c-22d4-4fe6-8d96-c2d246db8eb8",
   "metadata": {},
   "outputs": [],
   "source": [
    "#Extract files.\n",
    "local_zip = '../Notebook files/movielens.zip.'\n",
    "zip_ref = zipfile.ZipFile(local_zip, 'r')\n",
    "zip_ref.extractall('../Notebook files/')\n",
    "zip_ref.close()"
   ]
  },
  {
   "cell_type": "code",
   "execution_count": 6,
   "id": "6c2ab2e5-04cd-451c-8b03-ece7ca1f0d88",
   "metadata": {},
   "outputs": [],
   "source": [
    "user_cols = ['user_id','age', 'sex', 'occupation', 'zip_code']\n",
    "users = pd.read_csv('../Notebook files/ml-100k/u.user', sep = '|', names = user_cols, encoding = 'latin-1')\n",
    "\n",
    "rating_cols = ['user_id', 'movie_id', 'rating']\n",
    "ratings = pd.read_csv('../Notebook files/ml-100k/u.data', sep = '\\t', names = rating_cols, encoding = 'latin-1')\n"
   ]
  },
  {
   "cell_type": "code",
   "execution_count": 7,
   "id": "3ccf6ff8-e18f-45db-9951-f86c24cb476b",
   "metadata": {},
   "outputs": [
    {
     "data": {
      "text/html": [
       "<div>\n",
       "<style scoped>\n",
       "    .dataframe tbody tr th:only-of-type {\n",
       "        vertical-align: middle;\n",
       "    }\n",
       "\n",
       "    .dataframe tbody tr th {\n",
       "        vertical-align: top;\n",
       "    }\n",
       "\n",
       "    .dataframe thead th {\n",
       "        text-align: right;\n",
       "    }\n",
       "</style>\n",
       "<table border=\"1\" class=\"dataframe\">\n",
       "  <thead>\n",
       "    <tr style=\"text-align: right;\">\n",
       "      <th></th>\n",
       "      <th>user_id</th>\n",
       "      <th>movie_id</th>\n",
       "      <th>rating</th>\n",
       "    </tr>\n",
       "  </thead>\n",
       "  <tbody>\n",
       "    <tr>\n",
       "      <th>196</th>\n",
       "      <td>242</td>\n",
       "      <td>3</td>\n",
       "      <td>881250949</td>\n",
       "    </tr>\n",
       "    <tr>\n",
       "      <th>186</th>\n",
       "      <td>302</td>\n",
       "      <td>3</td>\n",
       "      <td>891717742</td>\n",
       "    </tr>\n",
       "    <tr>\n",
       "      <th>22</th>\n",
       "      <td>377</td>\n",
       "      <td>1</td>\n",
       "      <td>878887116</td>\n",
       "    </tr>\n",
       "    <tr>\n",
       "      <th>244</th>\n",
       "      <td>51</td>\n",
       "      <td>2</td>\n",
       "      <td>880606923</td>\n",
       "    </tr>\n",
       "    <tr>\n",
       "      <th>166</th>\n",
       "      <td>346</td>\n",
       "      <td>1</td>\n",
       "      <td>886397596</td>\n",
       "    </tr>\n",
       "  </tbody>\n",
       "</table>\n",
       "</div>"
      ],
      "text/plain": [
       "     user_id  movie_id     rating\n",
       "196      242         3  881250949\n",
       "186      302         3  891717742\n",
       "22       377         1  878887116\n",
       "244       51         2  880606923\n",
       "166      346         1  886397596"
      ]
     },
     "execution_count": 7,
     "metadata": {},
     "output_type": "execute_result"
    }
   ],
   "source": [
    "ratings.head()"
   ]
  },
  {
   "cell_type": "code",
   "execution_count": null,
   "id": "e658027a-db32-45d4-a198-6d8c006584c7",
   "metadata": {},
   "outputs": [],
   "source": []
  }
 ],
 "metadata": {
  "kernelspec": {
   "display_name": "Python 3",
   "language": "python",
   "name": "python3"
  },
  "language_info": {
   "codemirror_mode": {
    "name": "ipython",
    "version": 3
   },
   "file_extension": ".py",
   "mimetype": "text/x-python",
   "name": "python",
   "nbconvert_exporter": "python",
   "pygments_lexer": "ipython3",
   "version": "3.8.8"
  }
 },
 "nbformat": 4,
 "nbformat_minor": 5
}
